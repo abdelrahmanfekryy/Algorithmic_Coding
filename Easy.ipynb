{
 "cells": [
  {
   "cell_type": "markdown",
   "metadata": {},
   "source": [
    "## Dash Insert II\n",
    "Have the function `DashInsertII(str)` insert dashes ('-') between each two odd numbers and insert asterisks ('\\*') between each two even numbers in `str`.<br>\n",
    "For example: if `str` is `4546793` the output should be `454*67-9-3`.<br>\n",
    "Don't count zero as an odd or even number."
   ]
  },
  {
   "cell_type": "code",
   "execution_count": 1,
   "metadata": {},
   "outputs": [],
   "source": [
    "def isEven(n):\n",
    "    return int(n) % 2 == 0\n",
    "\n",
    "def isOdd(n):\n",
    "    return not isEven(n)\n",
    "\n",
    "def DashInsertII(str):\n",
    "    result = ''\n",
    "\n",
    "    for i in range(len(str) - 1):\n",
    "        result += str[i]\n",
    "\n",
    "        if str[i] == '0' or str[i + 1] == '0':\n",
    "            continue\n",
    "        elif isEven(str[i]) and isEven(str[i + 1]):\n",
    "            result += '*'\n",
    "        elif isOdd(str[i]) and isOdd(str[i + 1]):\n",
    "            result += '-'\n",
    "    result += str[-1]   \n",
    "\n",
    "    # Clean-up trailing - or *\n",
    "    for char in '/[|]$/':\n",
    "        result = result.replace(char,'')\n",
    "\n",
    "    return result\n"
   ]
  },
  {
   "cell_type": "code",
   "execution_count": 2,
   "metadata": {},
   "outputs": [
    {
     "data": {
      "text/plain": [
       "'4504*67-9-3'"
      ]
     },
     "execution_count": 2,
     "metadata": {},
     "output_type": "execute_result"
    }
   ],
   "source": [
    "DashInsertII('45046793')"
   ]
  },
  {
   "cell_type": "markdown",
   "metadata": {},
   "source": [
    "## 6. First Reverse\n",
    "Have the function `FirstReverse(str)` take the `str` parameter being passed and return the string in reversed order. For example: if the input string is `Hello World and Coders` then your program should return the string `sredoC dna dlroW olleH`."
   ]
  },
  {
   "cell_type": "code",
   "execution_count": 3,
   "metadata": {},
   "outputs": [],
   "source": [
    "def FirstReverse(strr):\n",
    "  return strr[::-1]\n",
    "\n",
    "\n",
    "def FirstReverse1(strr):\n",
    "  strr = list(strr)\n",
    "  strr.reverse()\n",
    "  strr = ''.join(strr)\n",
    "  return strr\n",
    "\n",
    "\n",
    "def FirstReverse2(strr):\n",
    "    result = ''\n",
    "    for i in range(len(strr) -1,-1,-1):\n",
    "        result += strr[i]\n",
    "    return result"
   ]
  },
  {
   "cell_type": "code",
   "execution_count": 4,
   "metadata": {},
   "outputs": [
    {
     "data": {
      "text/plain": [
       "'sredoC dna dlroW olleH'"
      ]
     },
     "execution_count": 4,
     "metadata": {},
     "output_type": "execute_result"
    }
   ],
   "source": [
    "FirstReverse('Hello World and Coders')"
   ]
  },
  {
   "cell_type": "markdown",
   "metadata": {},
   "source": [
    "## 5. First Factorial\n",
    "Have the function `FirstFactorial(num)` take the num parameter being passed and return the factorial of it. For example: if `num = 4`, then your program should return `(4 * 3 * 2 * 1) = 24`. For the test cases, the range will be between 1 and 18 and the input will always be an integer."
   ]
  },
  {
   "cell_type": "code",
   "execution_count": 5,
   "metadata": {},
   "outputs": [],
   "source": [
    "def FirstFactorial(num):\n",
    "  if num == 1:\n",
    "    return 1\n",
    "  else:\n",
    "    return num * FirstFactorial(num - 1)"
   ]
  },
  {
   "cell_type": "code",
   "execution_count": 6,
   "metadata": {},
   "outputs": [
    {
     "data": {
      "text/plain": [
       "720"
      ]
     },
     "execution_count": 6,
     "metadata": {},
     "output_type": "execute_result"
    }
   ],
   "source": [
    "FirstFactorial(6)"
   ]
  },
  {
   "cell_type": "markdown",
   "metadata": {},
   "source": [
    "## 4. Longest Word\n",
    "Have the function `LongestWord(sen)` take the sen parameter being passed and return the longest word in the string. \n",
    "* If there are two or more words that are the same length, return the first word from the string with that length.\n",
    "* Ignore punctuation\n",
    "* assume sen will not be empty. \n",
    "* Words may also contain numbers.\n",
    " \n",
    "for example \"Hello world123 567\""
   ]
  },
  {
   "cell_type": "code",
   "execution_count": 7,
   "metadata": {},
   "outputs": [],
   "source": [
    "import re\n",
    "import string \n",
    "\n",
    "\n",
    "def LongestWord(sen):\n",
    "    pattern = re.compile(r'\\W+') \n",
    "    x = pattern.split(sen)\n",
    "    return max(x, key=len)\n",
    "\n",
    "def clean(sen):\n",
    "    # copy a string in python via string formatting\n",
    "    result = f'{sen}'\n",
    "    for char in string.punctuation:\n",
    "        result = result.replace(char,'')\n",
    "    return result\n",
    "\n",
    "def LongestWord1(sen):\n",
    "    return max(clean(sen).split(), key=len)\n",
    "\n",
    "\n",
    "def LongestWord2(sen):\n",
    "    nw = \"\"\n",
    "    for letter in sen:\n",
    "      if letter.isalpha() or letter.isnumeric():\n",
    "        nw += letter\n",
    "      else :\n",
    "        nw += \" \"\n",
    "    return max(nw.split(),key=len)"
   ]
  },
  {
   "cell_type": "code",
   "execution_count": 8,
   "metadata": {},
   "outputs": [
    {
     "data": {
      "text/plain": [
       "'world123'"
      ]
     },
     "execution_count": 8,
     "metadata": {},
     "output_type": "execute_result"
    }
   ],
   "source": [
    "LongestWord('Hello world123 567')"
   ]
  },
  {
   "cell_type": "markdown",
   "metadata": {},
   "source": [
    "## 1. Codeland Username Validation\n",
    "Have the function CodelandUsernameValidation(str) take the str parameter being passed and determine if the string is a valid username according to the following rules:\n",
    "\n",
    "1. The username is between 4 and 25 characters.\n",
    "2. It must start with a letter.\n",
    "3. It can only contain letters, numbers, and the underscore character.\n",
    "4. It cannot end with an underscore character.\n",
    "\n",
    "If the username is valid then your program should return the string true, otherwise return the string false."
   ]
  },
  {
   "cell_type": "code",
   "execution_count": 9,
   "metadata": {},
   "outputs": [],
   "source": [
    "import re\n",
    "def CodelandUsernameValidation(str):\n",
    "  pattern = re.compile(r\"^[a-zA-Z][\\w_]{2,23}[^_]$\")\n",
    "  res = pattern.match(str)\n",
    "  str = \"true\" if res else \"false\"\n",
    "  return str"
   ]
  },
  {
   "cell_type": "code",
   "execution_count": 10,
   "metadata": {},
   "outputs": [],
   "source": [
    "def CodelandUsernameValidation(strr):\n",
    "    if len(strr) > 4 and len(strr) < 25:\n",
    "        if strr[0].isalpha() and strr[-1]!=\"_\":\n",
    "            if [i for i in strr if not i.isalnum() and i!=\"_\"] ==[]:\n",
    "                return True\n",
    "    return False"
   ]
  },
  {
   "cell_type": "code",
   "execution_count": 11,
   "metadata": {},
   "outputs": [
    {
     "data": {
      "text/plain": [
       "False"
      ]
     },
     "execution_count": 11,
     "metadata": {},
     "output_type": "execute_result"
    }
   ],
   "source": [
    "CodelandUsernameValidation(\"aa_\")"
   ]
  },
  {
   "cell_type": "code",
   "execution_count": 12,
   "metadata": {},
   "outputs": [
    {
     "data": {
      "text/plain": [
       "True"
      ]
     },
     "execution_count": 12,
     "metadata": {},
     "output_type": "execute_result"
    }
   ],
   "source": [
    "CodelandUsernameValidation(\"u__hello_world123\")"
   ]
  },
  {
   "cell_type": "markdown",
   "metadata": {},
   "source": [
    "## 2. Find Intersection\n",
    "Have the function `FindIntersection(strArr)` read the array of strings stored in strArr which will contain 2 elements: the first element will represent a list of comma-separated numbers sorted in ascending order, the second element will represent a second list of comma-separated numbers (also sorted). \n",
    "* Your goal is to return a comma-separated string containing the numbers that occur in elements of strArr in sorted order.\n",
    "* If there is no intersection, return the string false.\n",
    "\n",
    "Examples\n",
    "* Input: [\"1, 3, 4, 7, 13\", \"1, 2, 4, 13, 15\"]\n",
    "* Output: 1,4,13\n",
    "* Input: [\"1, 3, 9, 10, 17, 18\", \"1, 4, 9, 10\"]\n",
    "* Output: 1,9,10"
   ]
  },
  {
   "cell_type": "code",
   "execution_count": 13,
   "metadata": {},
   "outputs": [],
   "source": [
    "def FindIntersection(strArr):\n",
    "    setOne = set(strArr[0].split(\", \"))\n",
    "    setTwo = set(strArr[1].split(\", \"))\n",
    "    result = sorted(list(setOne & setTwo), key=lambda str: int(str))\n",
    "    return ','.join(result) if len(result) > 0 else False"
   ]
  },
  {
   "cell_type": "code",
   "execution_count": 14,
   "metadata": {},
   "outputs": [],
   "source": [
    "def FindIntersection(strArr):\n",
    "  setOne = map(int, strArr[0].split(', '))\n",
    "  setTwo = map(int, strArr[1].split(', '))\n",
    "  result = map(str,sorted(list(set(setOne) & set(setTwo))))\n",
    "  return ','.join(result)"
   ]
  },
  {
   "cell_type": "code",
   "execution_count": 15,
   "metadata": {},
   "outputs": [
    {
     "data": {
      "text/plain": [
       "'1,4,13'"
      ]
     },
     "execution_count": 15,
     "metadata": {},
     "output_type": "execute_result"
    }
   ],
   "source": [
    "FindIntersection([\"1, 3, 4, 7, 13\", \"1, 2, 4, 13, 15\"])"
   ]
  },
  {
   "cell_type": "markdown",
   "metadata": {},
   "source": [
    "## 3. Questions Marks\n",
    "Have the function `QuestionsMarks(str)` take the str string parameter, which will contain single digit numbers, letters, and question marks,\n",
    "* check if there are exactly 3 question marks between every pair of two numbers that add up to 10. If so, then your program should return the string true,\n",
    "* otherwise it should return the string false. If there aren't any two numbers that add up to 10 in the string, then your program should return false as well.\n",
    "\n",
    "For example: if str is \"arrb6???4xxbl5???eee5\" then your program should return true because there are exactly 3 question marks between 6 and 4, and 3 question marks between 5 and 5 at the end of the string."
   ]
  },
  {
   "cell_type": "code",
   "execution_count": 16,
   "metadata": {},
   "outputs": [],
   "source": [
    "def noAlpha(strr):\n",
    "    result = ''\n",
    "    for char in strr:\n",
    "        if not char.isalpha():\n",
    "            result += char\n",
    "    return result\n",
    "\n",
    "def QuestionsMarks(strr):\n",
    "    arr = noAlpha(strr).split('???')\n",
    "    for i in range(len(arr) -1):\n",
    "        if arr[i] and arr[i+1]:\n",
    "            if arr[i][-1].isdigit() and arr[i+1][0].isdigit():\n",
    "                if int(arr[i][-1]) + int(arr[i+1][0]) == 10:\n",
    "                    return True\n",
    "    return False\n",
    "        "
   ]
  },
  {
   "cell_type": "code",
   "execution_count": 17,
   "metadata": {},
   "outputs": [
    {
     "data": {
      "text/plain": [
       "True"
      ]
     },
     "execution_count": 17,
     "metadata": {},
     "output_type": "execute_result"
    }
   ],
   "source": [
    "QuestionsMarks(\"acc?7??sss?3rr1??????5\")"
   ]
  },
  {
   "cell_type": "code",
   "execution_count": 18,
   "metadata": {},
   "outputs": [
    {
     "data": {
      "text/plain": [
       "False"
      ]
     },
     "execution_count": 18,
     "metadata": {},
     "output_type": "execute_result"
    }
   ],
   "source": [
    "QuestionsMarks(\"aa6?9\")"
   ]
  },
  {
   "cell_type": "code",
   "execution_count": 19,
   "metadata": {},
   "outputs": [
    {
     "data": {
      "text/plain": [
       "True"
      ]
     },
     "execution_count": 19,
     "metadata": {},
     "output_type": "execute_result"
    }
   ],
   "source": [
    "QuestionsMarks(\"arrb6???4xxbl5???eee5\")"
   ]
  },
  {
   "cell_type": "code",
   "execution_count": 20,
   "metadata": {},
   "outputs": [],
   "source": [
    "def QuestionsMarks(str):\n",
    "    a = 11\n",
    "    b = 'false'\n",
    "    c = 0\n",
    "    for i in str:\n",
    "        if i.isdigit():\n",
    "            if int(i) + a == 10:\n",
    "                if c != 3:\n",
    "                    return 'false'\n",
    "                b = 'true'\n",
    "            c = 0\n",
    "            a = int(i)\n",
    "        elif i == '?':\n",
    "            c += 1\n",
    "    return b"
   ]
  },
  {
   "cell_type": "markdown",
   "metadata": {},
   "source": [
    "## 7. Letter Changes                                                                      \n",
    "have the function LetterChanges(str) take the str parameter being passed and modify it using the following algorithm. Replace every letter in the string with the letter following it in the alphabet (ie. c becomes d, z becomes a). Then capitalize every vowel in this new string (a, e, i, o, u) and finally return this modified string.   "
   ]
  },
  {
   "cell_type": "code",
   "execution_count": 21,
   "metadata": {},
   "outputs": [],
   "source": [
    "def LetterChanges(str):\n",
    "    alpha = 'abcdefghijklmnopqrstuvwxyz'\n",
    "    newAlpha = 'bcdEfghIjklmnOpqrstUvwxyzA'\n",
    "    answer = ''\n",
    "\n",
    "    for i in range(len(str)):\n",
    "        index = alpha.index(str[i])\n",
    "        if index != -1:\n",
    "            answer += newAlpha[index]\n",
    "        else:\n",
    "            answer += str[i]\n",
    "    return answer"
   ]
  },
  {
   "cell_type": "code",
   "execution_count": 22,
   "metadata": {},
   "outputs": [
    {
     "data": {
      "text/plain": [
       "'gEtww'"
      ]
     },
     "execution_count": 22,
     "metadata": {},
     "output_type": "execute_result"
    }
   ],
   "source": [
    "LetterChanges('fdsvv')"
   ]
  },
  {
   "cell_type": "markdown",
   "metadata": {},
   "source": [
    "## 8. Simple Adding\n",
    "have the function `SimpleAdding(num)` add up all the numbers from 1 to num. For the test cases, the parameter num will be any number from 1 to 1000."
   ]
  },
  {
   "cell_type": "code",
   "execution_count": 23,
   "metadata": {},
   "outputs": [],
   "source": [
    "def SimpleAdding(num):\n",
    "    if num <= 1:\n",
    "        return num\n",
    "    return num + SimpleAdding(num - 1)"
   ]
  },
  {
   "cell_type": "code",
   "execution_count": 24,
   "metadata": {},
   "outputs": [
    {
     "data": {
      "text/plain": [
       "55"
      ]
     },
     "execution_count": 24,
     "metadata": {},
     "output_type": "execute_result"
    }
   ],
   "source": [
    "SimpleAdding(10)"
   ]
  },
  {
   "cell_type": "code",
   "execution_count": 25,
   "metadata": {},
   "outputs": [],
   "source": [
    "def SimpleAdding(num):\n",
    "    result = 0\n",
    "    for n in range(1,num + 1):\n",
    "        result += n\n",
    "    return result"
   ]
  },
  {
   "cell_type": "code",
   "execution_count": 26,
   "metadata": {},
   "outputs": [
    {
     "data": {
      "text/plain": [
       "55"
      ]
     },
     "execution_count": 26,
     "metadata": {},
     "output_type": "execute_result"
    }
   ],
   "source": [
    "SimpleAdding(10)"
   ]
  },
  {
   "cell_type": "markdown",
   "metadata": {},
   "source": [
    "## 9. Letter Capitalize\n",
    "have the function `LetterCapitalize(str)` take the `str` parameter being passed and capitalize the first letter of each word. Words will be separated by only one space."
   ]
  },
  {
   "cell_type": "code",
   "execution_count": 27,
   "metadata": {},
   "outputs": [],
   "source": [
    "def LetterCapitalize(str):\n",
    "    return \" \".join(word.capitalize() for word in str.split())"
   ]
  },
  {
   "cell_type": "code",
   "execution_count": 28,
   "metadata": {},
   "outputs": [
    {
     "data": {
      "text/plain": [
       "'The Quick Brown Fox Jumped Over The Lazy Dog'"
      ]
     },
     "execution_count": 28,
     "metadata": {},
     "output_type": "execute_result"
    }
   ],
   "source": [
    "LetterCapitalize('the quick brown fox jumped over the lazy dog')"
   ]
  },
  {
   "cell_type": "code",
   "execution_count": 29,
   "metadata": {},
   "outputs": [],
   "source": [
    "def LetterCapitalize(str):\n",
    "    return str.title()"
   ]
  },
  {
   "cell_type": "code",
   "execution_count": 30,
   "metadata": {},
   "outputs": [
    {
     "data": {
      "text/plain": [
       "'The Quick Brown Fox Jumped Over The Lazy Dog'"
      ]
     },
     "execution_count": 30,
     "metadata": {},
     "output_type": "execute_result"
    }
   ],
   "source": [
    "LetterCapitalize('the quick brown fox jumped over the lazy dog')"
   ]
  },
  {
   "cell_type": "code",
   "execution_count": 31,
   "metadata": {},
   "outputs": [],
   "source": [
    "def LetterCapitalize(str):\n",
    "    return \" \".join(word[0].upper() + word[1:] for word in str.split())"
   ]
  },
  {
   "cell_type": "code",
   "execution_count": 32,
   "metadata": {},
   "outputs": [
    {
     "data": {
      "text/plain": [
       "'The Quick Brown Fox Jumped Over The Lazy Dog'"
      ]
     },
     "execution_count": 32,
     "metadata": {},
     "output_type": "execute_result"
    }
   ],
   "source": [
    "LetterCapitalize('the quick brown fox jumped over the lazy dog')"
   ]
  },
  {
   "cell_type": "markdown",
   "metadata": {},
   "source": [
    "## 10. Simple Symbols\n",
    "have the function `SimpleSymbols(str)` take the `str` parameter being passed and determine if it is an acceptable sequence by either returning the string `true` or `false`. The `str` parameter will be composed of `+` and `=` symbols with several letters between them (ie. ++d+===+c++==a) and for the string to be true each letter must be surrounded by a + symbol. So the string to the left would be false. The string will not be empty and will have at least one letter."
   ]
  },
  {
   "cell_type": "code",
   "execution_count": 33,
   "metadata": {},
   "outputs": [],
   "source": [
    "def SimpleSymbols(str): \n",
    "    for i in range(len(str)):\n",
    "        if str[i].isalpha():\n",
    "            if i == 0 or i == len(str) - 1:\n",
    "                return False\n",
    "            if str[i-1] != \"+\" or str[i+1] != \"+\":\n",
    "                return False\n",
    "    return True"
   ]
  },
  {
   "cell_type": "code",
   "execution_count": 34,
   "metadata": {},
   "outputs": [
    {
     "data": {
      "text/plain": [
       "False"
      ]
     },
     "execution_count": 34,
     "metadata": {},
     "output_type": "execute_result"
    }
   ],
   "source": [
    "SimpleSymbols('++d+===+c++==a')"
   ]
  },
  {
   "cell_type": "markdown",
   "metadata": {},
   "source": [
    "## 11. Check Nums\n",
    "have the function `CheckNums(num1,num2)` take both parameters being passed and return the string `true` if `num2` is greater than `num1`, otherwise return the string `false`. If the parameter values are equal to each other then return the string `-1`"
   ]
  },
  {
   "cell_type": "code",
   "execution_count": 35,
   "metadata": {},
   "outputs": [],
   "source": [
    "def CheckNums(num1,num2):\n",
    "    if num1 == num2:\n",
    "        return -1\n",
    "    elif num2 > num1:\n",
    "        return True\n",
    "    else:\n",
    "        return False"
   ]
  },
  {
   "cell_type": "code",
   "execution_count": 36,
   "metadata": {},
   "outputs": [
    {
     "data": {
      "text/plain": [
       "True"
      ]
     },
     "execution_count": 36,
     "metadata": {},
     "output_type": "execute_result"
    }
   ],
   "source": [
    "CheckNums(1,5)"
   ]
  },
  {
   "cell_type": "code",
   "execution_count": 37,
   "metadata": {},
   "outputs": [
    {
     "data": {
      "text/plain": [
       "-1"
      ]
     },
     "execution_count": 37,
     "metadata": {},
     "output_type": "execute_result"
    }
   ],
   "source": [
    "CheckNums(5,5)"
   ]
  },
  {
   "cell_type": "markdown",
   "metadata": {},
   "source": [
    "## 12. Time Convert\n",
    "have the function `TimeConvert(num)` take the num parameter being passed and return the number of hours and minutes the parameter converts to (ie. if num = 63 then the output should be 1:3). Separate the number of hours and minutes with a colon."
   ]
  },
  {
   "cell_type": "code",
   "execution_count": 38,
   "metadata": {},
   "outputs": [],
   "source": [
    "import math\n",
    "def TimeConvert(num):\n",
    "    return f'{math.floor(num / 60):02d}:{num % 60:02d}' "
   ]
  },
  {
   "cell_type": "code",
   "execution_count": 39,
   "metadata": {},
   "outputs": [
    {
     "data": {
      "text/plain": [
       "'01:40'"
      ]
     },
     "execution_count": 39,
     "metadata": {},
     "output_type": "execute_result"
    }
   ],
   "source": [
    "TimeConvert(100)"
   ]
  },
  {
   "cell_type": "markdown",
   "metadata": {},
   "source": [
    "## 13. Alphabet Soup\n",
    "Have the function `AlphabetSoup(str)` take the `str` string parameter being passed and return the string with the letters in alphabetical order (ie. hello becomes ehllo). Assume numbers and punctuation symbols will not be included in the string."
   ]
  },
  {
   "cell_type": "code",
   "execution_count": 40,
   "metadata": {},
   "outputs": [],
   "source": [
    "def AlphabetSoup(str):\n",
    "    return \"\".join(sorted(str))"
   ]
  },
  {
   "cell_type": "code",
   "execution_count": 41,
   "metadata": {},
   "outputs": [
    {
     "data": {
      "text/plain": [
       "'ehllo'"
      ]
     },
     "execution_count": 41,
     "metadata": {},
     "output_type": "execute_result"
    }
   ],
   "source": [
    "AlphabetSoup('hello')"
   ]
  },
  {
   "cell_type": "markdown",
   "metadata": {},
   "source": [
    "## 14. AB Check\n",
    "have the function `ABCheck(str)` take the `str` parameter being passed and return the string `true` if the characters `a` and `b` are separated by exactly `3` places anywhere in the string at least once (ie. \"lane borrowed\" would result in true because there is exactly three characters between a and b). Otherwise return the string `false`."
   ]
  },
  {
   "cell_type": "code",
   "execution_count": 42,
   "metadata": {},
   "outputs": [],
   "source": [
    "def ABCheck(str):\n",
    "    for i in range(len(str) - 4):\n",
    "        if str[i].lower() == 'a' and str[i + 4].lower() == 'b':\n",
    "            return True\n",
    "    return False\n"
   ]
  },
  {
   "cell_type": "code",
   "execution_count": 43,
   "metadata": {},
   "outputs": [
    {
     "data": {
      "text/plain": [
       "True"
      ]
     },
     "execution_count": 43,
     "metadata": {},
     "output_type": "execute_result"
    }
   ],
   "source": [
    "ABCheck('lane borrowed')"
   ]
  },
  {
   "cell_type": "code",
   "execution_count": 44,
   "metadata": {},
   "outputs": [],
   "source": [
    "import re\n",
    "def ABCheck(str):\n",
    "    match = re.findall('a...b',str)\n",
    "    return len(match) > 0"
   ]
  },
  {
   "cell_type": "code",
   "execution_count": 45,
   "metadata": {},
   "outputs": [
    {
     "data": {
      "text/plain": [
       "True"
      ]
     },
     "execution_count": 45,
     "metadata": {},
     "output_type": "execute_result"
    }
   ],
   "source": [
    "ABCheck('lane borrowed')"
   ]
  },
  {
   "cell_type": "markdown",
   "metadata": {},
   "source": [
    "## 15. Vowel Count\n",
    "have the function `VowelCount(str)` take the `str` string parameter being passed and return the number of vowels the string contains (ie. \"All cows eat grass\" would return 5). Do not count `y` as a vowel for this challenge."
   ]
  },
  {
   "cell_type": "code",
   "execution_count": 46,
   "metadata": {},
   "outputs": [],
   "source": [
    "def VowelCount(str):\n",
    "    tot = 0\n",
    "    for char in str:\n",
    "        if char.lower() in \"aeiou\":\n",
    "            tot += 1\n",
    "    return tot"
   ]
  },
  {
   "cell_type": "code",
   "execution_count": 47,
   "metadata": {},
   "outputs": [
    {
     "data": {
      "text/plain": [
       "5"
      ]
     },
     "execution_count": 47,
     "metadata": {},
     "output_type": "execute_result"
    }
   ],
   "source": [
    "VowelCount(\"All cows eat grass\")"
   ]
  },
  {
   "cell_type": "code",
   "execution_count": 48,
   "metadata": {},
   "outputs": [],
   "source": [
    "def VowelCount(str):\n",
    "    return sum([char.lower() in \"aeiou\" for char in str])"
   ]
  },
  {
   "cell_type": "code",
   "execution_count": 49,
   "metadata": {},
   "outputs": [
    {
     "data": {
      "text/plain": [
       "5"
      ]
     },
     "execution_count": 49,
     "metadata": {},
     "output_type": "execute_result"
    }
   ],
   "source": [
    "VowelCount(\"All cows eat grass\")"
   ]
  },
  {
   "cell_type": "markdown",
   "metadata": {},
   "source": [
    "## 16. Word Count\n",
    "have the function `WordCount(str)` take the `str` string parameter being passed and return the number of words the string contains (ie. \"Never eat shredded wheat\" would return 4). Words will be separated by single spaces."
   ]
  },
  {
   "cell_type": "code",
   "execution_count": 50,
   "metadata": {},
   "outputs": [],
   "source": [
    "def WordCount(str):\n",
    "    return len(str.split())"
   ]
  },
  {
   "cell_type": "code",
   "execution_count": 51,
   "metadata": {},
   "outputs": [
    {
     "data": {
      "text/plain": [
       "4"
      ]
     },
     "execution_count": 51,
     "metadata": {},
     "output_type": "execute_result"
    }
   ],
   "source": [
    "WordCount(\"Never eat shredded wheat\")"
   ]
  },
  {
   "cell_type": "markdown",
   "metadata": {},
   "source": [
    "## 17. Ex Oh                                                                               \n",
    "have the function `ExOh(str)` take the str parameter being passed and return the string true if there is an equal number of x's and o's, otherwise return the string false. Only these two letters will be entered in the string, no punctuation or numbers.<br>\n",
    "For example: if str is \"xooxxxxooxo\" then the output should return false because there are 6 x's and 5 o's.                   "
   ]
  },
  {
   "cell_type": "code",
   "execution_count": 52,
   "metadata": {},
   "outputs": [],
   "source": [
    "def ExOh(str): \n",
    "\n",
    "    if len(str) % 2 == 1:\n",
    "        return False\n",
    "    else:  \n",
    "        tot = 0\n",
    "        for i in range(len(str)):\n",
    "            if str[i] == \"x\":\n",
    "                tot+=1\n",
    "        if tot == len(str) / 2:\n",
    "            return True\n",
    "        else:\n",
    "            return False"
   ]
  },
  {
   "cell_type": "code",
   "execution_count": 53,
   "metadata": {},
   "outputs": [
    {
     "data": {
      "text/plain": [
       "False"
      ]
     },
     "execution_count": 53,
     "metadata": {},
     "output_type": "execute_result"
    }
   ],
   "source": [
    "ExOh(\"xooxxxxooxo\")"
   ]
  },
  {
   "cell_type": "markdown",
   "metadata": {},
   "source": [
    "## 18. Palindrome\n",
    "have the function `Palindrome(str)` take the `str` parameter being passed and return the string `true` if the parameter is a palindrome, (the string is the same forward as it is backward) otherwise return the string `false`. For example: \"racecar\" is also \"racecar\" backwards. Punctuation and numbers not be part of the string."
   ]
  },
  {
   "cell_type": "code",
   "execution_count": 54,
   "metadata": {},
   "outputs": [],
   "source": [
    "def noPunctuationNumber(sen):\n",
    "    result = f'{sen}'\n",
    "    for char in sen:\n",
    "        if not char.isalpha():\n",
    "            result = result.replace(char,'')\n",
    "    return result\n",
    "\n",
    "def Palindrome(str):\n",
    "    strr = noPunctuationNumber(str)\n",
    "    return strr.lower() == strr.lower()[::-1]\n"
   ]
  },
  {
   "cell_type": "code",
   "execution_count": 55,
   "metadata": {},
   "outputs": [
    {
     "data": {
      "text/plain": [
       "True"
      ]
     },
     "execution_count": 55,
     "metadata": {},
     "output_type": "execute_result"
    }
   ],
   "source": [
    "Palindrome('racecar')"
   ]
  },
  {
   "cell_type": "markdown",
   "metadata": {},
   "source": [
    "## 19. Arith Geo\n",
    "Have the function `ArithGeo(arr)` take the array of numbers stored in `arr` and return the string `Arithmetic` if the sequence follows an arithmetic pattern or return `Geometric` if it follows a geometric pattern. If the sequence doesn't follow either pattern return `-1`.<br>\n",
    "An arithmetic sequence is one where the difference between each of the numbers is consistent, where as in a geometric sequence, each term after the first is multiplied by some constant or common ratio.<br>\n",
    "Arithmetic example: [2, 4, 6, 8] and Geometric example: [2, 6, 18, 54].<br> \n",
    "Negative numbers may be entered as parameters, 0 will not be entered, and no array will contain all the same elements. "
   ]
  },
  {
   "cell_type": "code",
   "execution_count": 56,
   "metadata": {},
   "outputs": [],
   "source": [
    "def isArithmetic(arr):  \n",
    "    delta = arr[0] - arr[1]\n",
    "\n",
    "    for i in range(len(arr) -1):\n",
    "        if delta != arr[i] - arr[i + 1]:\n",
    "            return False\n",
    "    return True\n",
    "\n",
    "def isGeometric(arr):  \n",
    "    delta = arr[1] / arr[0]\n",
    "\n",
    "    for i in range(len(arr) -1):\n",
    "        if delta != arr[i+1] / arr[i]:\n",
    "            return False\n",
    "    return True\n",
    "\n",
    "def unique(in_list):\n",
    "    unique_list = []\n",
    "    for x in in_list:\n",
    "        if x not in unique_list:\n",
    "            unique_list.append(x)\n",
    "    return unique_list\n",
    "\n",
    "\n",
    "def ArithGeo(arr):\n",
    "    # 0 will not be entered as param.\n",
    "    if 0 in arr:\n",
    "        raise Exception('0 is not allowed')\n",
    "\n",
    "    # No array will contain all the same elements.\n",
    "    #arr = list(set(arr))\n",
    "    arr = unique(arr)\n",
    "\n",
    "    if isArithmetic(arr):\n",
    "        return 'Arithmetic'\n",
    "    if isGeometric(arr):\n",
    "        return 'Geometric'\n",
    "    return -1\n"
   ]
  },
  {
   "cell_type": "code",
   "execution_count": 57,
   "metadata": {},
   "outputs": [
    {
     "data": {
      "text/plain": [
       "'Arithmetic'"
      ]
     },
     "execution_count": 57,
     "metadata": {},
     "output_type": "execute_result"
    }
   ],
   "source": [
    "ArithGeo([2,4,6,8])"
   ]
  },
  {
   "cell_type": "markdown",
   "metadata": {},
   "source": [
    "## 20. Array Addition I\n",
    "have the function `ArrayAdditionI(arr)` take the array of numbers stored in `arr` and return the string `true` if any combination of numbers in the array can be added up to equal the largest number in the array, otherwise return the string `false`. For example: if `arr` contains [4, 6, 23, 10, 1, 3] the output should return `true` because 4 + 6 + 10 + 3 = 23. The array will not be empty, will not contain all the same elements, and may contain negative numbers."
   ]
  },
  {
   "cell_type": "code",
   "execution_count": 58,
   "metadata": {},
   "outputs": [],
   "source": [
    "from itertools import combinations\n",
    "\n",
    "def ArrayAdditionI(arr):\n",
    "    arr = sorted(arr)\n",
    "    maxNum = arr.pop()\n",
    "    for i in range(2,len(arr) + 1):\n",
    "        for comb in combinations(arr,i):\n",
    "            if sum(comb) == maxNum:\n",
    "                return f'True, {\" + \".join(map(str, comb))} = {maxNum}'\n",
    "    return False"
   ]
  },
  {
   "cell_type": "code",
   "execution_count": 59,
   "metadata": {},
   "outputs": [
    {
     "data": {
      "text/plain": [
       "'True, 3 + 4 + 6 + 10 = 23'"
      ]
     },
     "execution_count": 59,
     "metadata": {},
     "output_type": "execute_result"
    }
   ],
   "source": [
    "ArrayAdditionI([4, 6, 23, 10, 1, 3])"
   ]
  }
 ],
 "metadata": {
  "interpreter": {
   "hash": "8a6378035587bb97055001603ea9d85a2aa377cc6252a50ffca4355a71bc8b90"
  },
  "kernelspec": {
   "display_name": "Python 3.8.10 64-bit",
   "language": "python",
   "name": "python3"
  },
  "language_info": {
   "codemirror_mode": {
    "name": "ipython",
    "version": 3
   },
   "file_extension": ".py",
   "mimetype": "text/x-python",
   "name": "python",
   "nbconvert_exporter": "python",
   "pygments_lexer": "ipython3",
   "version": "3.8.10"
  },
  "orig_nbformat": 4
 },
 "nbformat": 4,
 "nbformat_minor": 2
}
