{
 "cells": [
  {
   "cell_type": "markdown",
   "metadata": {},
   "source": [
    "## ArithGeo\n",
    "Have the function `ArithGeo(arr)` take the array of numbers stored in `arr` and return the string `Arithmetic` if the sequence follows an arithmetic pattern or return `Geometric` if it follows a geometric pattern. If the sequence doesn't follow either pattern return `-1`.<br>\n",
    "An arithmetic sequence is one where the difference between each of the numbers is consistent, where as in a geometric sequence, each term after the first is multiplied by some constant or common ratio.<br>\n",
    "Arithmetic example: [2, 4, 6, 8] and Geometric example: [2, 6, 18, 54].<br> \n",
    "Negative numbers may be entered as parameters, 0 will not be entered, and no array will contain all the same elements. "
   ]
  },
  {
   "cell_type": "code",
   "execution_count": 16,
   "metadata": {},
   "outputs": [],
   "source": [
    "def isArithmetic(arr):  \n",
    "    delta = arr[0] - arr[1]\n",
    "\n",
    "    for i in range(len(arr) -1):\n",
    "        if delta != arr[i] - arr[i + 1]:\n",
    "            return False\n",
    "    return True\n",
    "\n",
    "def isGeometric(arr):  \n",
    "    delta = arr[1] / arr[0]\n",
    "\n",
    "    for i in range(len(arr) -1):\n",
    "        if delta != arr[i+1] / arr[i]:\n",
    "            return False\n",
    "    return True\n",
    "\n",
    "def unique(in_list):\n",
    "    unique_list = []\n",
    "    for x in in_list:\n",
    "        if x not in unique_list:\n",
    "            unique_list.append(x)\n",
    "    return unique_list\n",
    "\n",
    "\n",
    "def ArithGeo(arr):\n",
    "    # 0 will not be entered as param.\n",
    "    if 0 in arr:\n",
    "        raise Exception('0 is not allowed')\n",
    "\n",
    "    # No array will contain all the same elements.\n",
    "    #arr = list(set(arr))\n",
    "    arr = unique(arr)\n",
    "\n",
    "    if isArithmetic(arr):\n",
    "        return 'Arithmetic'\n",
    "    if isGeometric(arr):\n",
    "        return 'Geometric'\n",
    "    return -1\n"
   ]
  },
  {
   "cell_type": "code",
   "execution_count": 20,
   "metadata": {},
   "outputs": [
    {
     "data": {
      "text/plain": [
       "'Arithmetic'"
      ]
     },
     "execution_count": 20,
     "metadata": {},
     "output_type": "execute_result"
    }
   ],
   "source": [
    "ArithGeo([2,4,6,8])"
   ]
  },
  {
   "cell_type": "markdown",
   "metadata": {},
   "source": [
    "## DashInsertII\n",
    "Have the function `DashInsertII(str)` insert dashes ('-') between each two odd numbers and insert asterisks ('\\*') between each two even numbers in `str`.<br>\n",
    "For example: if `str` is `4546793` the output should be `454*67-9-3`.<br>\n",
    "Don't count zero as an odd or even number."
   ]
  },
  {
   "cell_type": "code",
   "execution_count": 46,
   "metadata": {},
   "outputs": [],
   "source": [
    "def isEven(n):\n",
    "    return int(n) % 2 == 0\n",
    "\n",
    "def isOdd(n):\n",
    "    return not isEven(n)\n",
    "\n",
    "def DashInsertII(str):\n",
    "    result = ''\n",
    "\n",
    "    for i in range(len(str) - 1):\n",
    "        result += str[i]\n",
    "\n",
    "        if str[i] == '0' or str[i + 1] == '0':\n",
    "            continue\n",
    "        elif isEven(str[i]) and isEven(str[i + 1]):\n",
    "            result += '*'\n",
    "        elif isOdd(str[i]) and isOdd(str[i + 1]):\n",
    "            result += '-'\n",
    "    result += str[-1]   \n",
    "\n",
    "    # Clean-up trailing - or *\n",
    "    for char in '/[|]$/':\n",
    "        result = result.replace(char,'')\n",
    "\n",
    "    return result\n"
   ]
  },
  {
   "cell_type": "code",
   "execution_count": 47,
   "metadata": {},
   "outputs": [
    {
     "data": {
      "text/plain": [
       "'4504*67-9-3'"
      ]
     },
     "execution_count": 47,
     "metadata": {},
     "output_type": "execute_result"
    }
   ],
   "source": [
    "DashInsertII('45046793')"
   ]
  },
  {
   "cell_type": "markdown",
   "metadata": {},
   "source": [
    "## First Reverse\n",
    "Have the function `FirstReverse(str)` take the `str` parameter being passed and return the string in reversed order. For example: if the input string is `Hello World and Coders` then your program should return the string `sredoC dna dlroW olleH`."
   ]
  },
  {
   "cell_type": "code",
   "execution_count": 78,
   "metadata": {},
   "outputs": [],
   "source": [
    "def FirstReverse(strr):\n",
    "  return strr[::-1]\n",
    "\n",
    "\n",
    "def FirstReverse1(strr):\n",
    "  strr = list(strr)\n",
    "  strr.reverse()\n",
    "  strr = ''.join(strr)\n",
    "  return strr\n",
    "\n",
    "\n",
    "def FirstReverse2(strr):\n",
    "    result = ''\n",
    "    for i in range(len(strr) -1,-1,-1):\n",
    "        result += strr[i]\n",
    "    return result"
   ]
  },
  {
   "cell_type": "code",
   "execution_count": 79,
   "metadata": {},
   "outputs": [
    {
     "data": {
      "text/plain": [
       "'sredoC dna dlroW olleH'"
      ]
     },
     "execution_count": 79,
     "metadata": {},
     "output_type": "execute_result"
    }
   ],
   "source": [
    "FirstReverse('Hello World and Coders')"
   ]
  },
  {
   "cell_type": "markdown",
   "metadata": {},
   "source": [
    "## First Factorial\n",
    "Have the function `FirstFactorial(num)` take the num parameter being passed and return the factorial of it. For example: if `num = 4`, then your program should return `(4 * 3 * 2 * 1) = 24`. For the test cases, the range will be between 1 and 18 and the input will always be an integer."
   ]
  },
  {
   "cell_type": "code",
   "execution_count": 84,
   "metadata": {},
   "outputs": [],
   "source": [
    "def FirstFactorial(num):\n",
    "  if num == 1:\n",
    "    return 1\n",
    "  else:\n",
    "    return num * FirstFactorial(num - 1)"
   ]
  },
  {
   "cell_type": "code",
   "execution_count": 85,
   "metadata": {},
   "outputs": [
    {
     "data": {
      "text/plain": [
       "720"
      ]
     },
     "execution_count": 85,
     "metadata": {},
     "output_type": "execute_result"
    }
   ],
   "source": [
    "FirstFactorial(6)"
   ]
  },
  {
   "cell_type": "markdown",
   "metadata": {},
   "source": [
    "## Longest Word\n",
    "Have the function `LongestWord(sen)` take the sen parameter being passed and return the longest word in the string. \n",
    "* If there are two or more words that are the same length, return the first word from the string with that length.\n",
    "* Ignore punctuation\n",
    "* assume sen will not be empty. \n",
    "* Words may also contain numbers.\n",
    " \n",
    "for example \"Hello world123 567\""
   ]
  },
  {
   "cell_type": "code",
   "execution_count": 106,
   "metadata": {},
   "outputs": [],
   "source": [
    "import re\n",
    "import string \n",
    "\n",
    "\n",
    "def LongestWord(sen):\n",
    "    pattern = re.compile(r'\\W+') \n",
    "    x = pattern.split(sen)\n",
    "    return max(x, key=len)\n",
    "\n",
    "def clean(sen):\n",
    "    # copy a string in python via string formatting\n",
    "    result = f'{sen}'\n",
    "    for char in string.punctuation:\n",
    "        result = result.replace(char,'')\n",
    "    return result\n",
    "\n",
    "def LongestWord1(sen):\n",
    "    return max(clean(sen).split(), key=len)\n",
    "\n",
    "\n",
    "def LongestWord2(sen):\n",
    "    nw = \"\"\n",
    "    for letter in sen:\n",
    "      if letter.isalpha() or letter.isnumeric():\n",
    "        nw += letter\n",
    "      else :\n",
    "        nw += \" \"\n",
    "    return max(nw.split(),key=len)"
   ]
  },
  {
   "cell_type": "code",
   "execution_count": 107,
   "metadata": {},
   "outputs": [
    {
     "data": {
      "text/plain": [
       "'world123'"
      ]
     },
     "execution_count": 107,
     "metadata": {},
     "output_type": "execute_result"
    }
   ],
   "source": [
    "LongestWord('Hello world123 567')"
   ]
  },
  {
   "cell_type": "markdown",
   "metadata": {},
   "source": [
    "## Questions Marks\n",
    "Have the function `QuestionsMarks(str)` take the str string parameter, which will contain single digit numbers, letters, and question marks,\n",
    "* check if there are exactly 3 question marks between every pair of two numbers that add up to 10. If so, then your program should return the string true,\n",
    "* otherwise it should return the string false. If there aren't any two numbers that add up to 10 in the string, then your program should return false as well.\n",
    "\n",
    "For example: if str is \"arrb6???4xxbl5???eee5\" then your program should return true because there are exactly 3 question marks between 6 and 4, and 3 question marks between 5 and 5 at the end of the string."
   ]
  },
  {
   "cell_type": "code",
   "execution_count": 141,
   "metadata": {},
   "outputs": [],
   "source": [
    "def noAlpha(strr):\n",
    "    result = ''\n",
    "    for char in strr:\n",
    "        if not char.isalpha():\n",
    "            result += char\n",
    "    return result\n",
    "\n",
    "def QuestionsMarks(strr):\n",
    "    arr = noAlpha(strr).split('???')\n",
    "    for i in range(len(arr) -1):\n",
    "        if arr[i] and arr[i+1]:\n",
    "            if arr[i][-1].isdigit() and arr[i+1][0].isdigit():\n",
    "                if int(arr[i][-1]) + int(arr[i+1][0]) == 10:\n",
    "                    return True\n",
    "    return False\n",
    "        "
   ]
  },
  {
   "cell_type": "code",
   "execution_count": 142,
   "metadata": {},
   "outputs": [
    {
     "data": {
      "text/plain": [
       "True"
      ]
     },
     "execution_count": 142,
     "metadata": {},
     "output_type": "execute_result"
    }
   ],
   "source": [
    "QuestionsMarks(\"arrb6???4xxbl5???eee5\")"
   ]
  },
  {
   "cell_type": "code",
   "execution_count": 146,
   "metadata": {},
   "outputs": [
    {
     "data": {
      "text/plain": [
       "True"
      ]
     },
     "execution_count": 146,
     "metadata": {},
     "output_type": "execute_result"
    }
   ],
   "source": [
    "QuestionsMarks(\"acc?7??sss?3rr1??????5\")"
   ]
  },
  {
   "cell_type": "code",
   "execution_count": 144,
   "metadata": {},
   "outputs": [
    {
     "data": {
      "text/plain": [
       "False"
      ]
     },
     "execution_count": 144,
     "metadata": {},
     "output_type": "execute_result"
    }
   ],
   "source": [
    "QuestionsMarks(\"aa6?9\")"
   ]
  },
  {
   "cell_type": "code",
   "execution_count": null,
   "metadata": {},
   "outputs": [],
   "source": [
    "def QuestionsMarks(str):\n",
    "    a = 11\n",
    "    b = 'false'\n",
    "    c = 0\n",
    "    for i in str:\n",
    "        if i.isdigit():\n",
    "            if int(i) + a == 10:\n",
    "                if c != 3:\n",
    "                    return 'false'\n",
    "                b = 'true'\n",
    "            c = 0\n",
    "            a = int(i)\n",
    "        elif i == '?':\n",
    "            c += 1\n",
    "    return b"
   ]
  },
  {
   "cell_type": "markdown",
   "metadata": {},
   "source": [
    "## Find Intersection\n",
    "Have the function `FindIntersection(strArr)` read the array of strings stored in strArr which will contain 2 elements: the first element will represent a list of comma-separated numbers sorted in ascending order, the second element will represent a second list of comma-separated numbers (also sorted). \n",
    "* Your goal is to return a comma-separated string containing the numbers that occur in elements of strArr in sorted order.\n",
    "* If there is no intersection, return the string false.\n",
    "\n",
    "Examples\n",
    "* Input: [\"1, 3, 4, 7, 13\", \"1, 2, 4, 13, 15\"]\n",
    "* Output: 1,4,13\n",
    "* Input: [\"1, 3, 9, 10, 17, 18\", \"1, 4, 9, 10\"]\n",
    "* Output: 1,9,10"
   ]
  },
  {
   "cell_type": "code",
   "execution_count": 153,
   "metadata": {},
   "outputs": [],
   "source": [
    "def FindIntersection(strArr):\n",
    "    setOne = set(strArr[0].split(\", \"))\n",
    "    setTwo = set(strArr[1].split(\", \"))\n",
    "    result = sorted(list(setOne & setTwo), key=lambda str: int(str))\n",
    "    return ','.join(result) if len(result) > 0 else False"
   ]
  },
  {
   "cell_type": "code",
   "execution_count": 163,
   "metadata": {},
   "outputs": [],
   "source": [
    "def FindIntersection(strArr):\n",
    "  setOne = map(int, strArr[0].split(', '))\n",
    "  setTwo = map(int, strArr[1].split(', '))\n",
    "  result = map(str,sorted(list(set(setOne) & set(setTwo))))\n",
    "  return ','.join(result)"
   ]
  },
  {
   "cell_type": "code",
   "execution_count": 164,
   "metadata": {},
   "outputs": [
    {
     "data": {
      "text/plain": [
       "'1,4,13'"
      ]
     },
     "execution_count": 164,
     "metadata": {},
     "output_type": "execute_result"
    }
   ],
   "source": [
    "FindIntersection([\"1, 3, 4, 7, 13\", \"1, 2, 4, 13, 15\"])"
   ]
  },
  {
   "cell_type": "markdown",
   "metadata": {},
   "source": [
    "## Codeland Username Validation\n",
    "Have the function CodelandUsernameValidation(str) take the str parameter being passed and determine if the string is a valid username according to the following rules:\n",
    "\n",
    "1. The username is between 4 and 25 characters.\n",
    "2. It must start with a letter.\n",
    "3. It can only contain letters, numbers, and the underscore character.\n",
    "4. It cannot end with an underscore character.\n",
    "\n",
    "If the username is valid then your program should return the string true, otherwise return the string false."
   ]
  },
  {
   "cell_type": "code",
   "execution_count": 165,
   "metadata": {},
   "outputs": [],
   "source": [
    "import re\n",
    "def CodelandUsernameValidation(str):\n",
    "  pattern = re.compile(r\"^[a-zA-Z][\\w_]{2,23}[^_]$\")\n",
    "  res = pattern.match(str)\n",
    "  str = \"true\" if res else \"false\"\n",
    "  return str"
   ]
  },
  {
   "cell_type": "code",
   "execution_count": 187,
   "metadata": {},
   "outputs": [],
   "source": [
    "def CodelandUsernameValidation(strr):\n",
    "    if len(strr) > 4 and len(strr) < 25:\n",
    "        if strr[0].isalpha() and strr[-1]!=\"_\":\n",
    "            if [i for i in strr if not i.isalnum() and i!=\"_\"] ==[]:\n",
    "                return True\n",
    "    return False"
   ]
  },
  {
   "cell_type": "code",
   "execution_count": 191,
   "metadata": {},
   "outputs": [
    {
     "data": {
      "text/plain": [
       "False"
      ]
     },
     "execution_count": 191,
     "metadata": {},
     "output_type": "execute_result"
    }
   ],
   "source": [
    "CodelandUsernameValidation(\"aa_\")"
   ]
  },
  {
   "cell_type": "code",
   "execution_count": 193,
   "metadata": {},
   "outputs": [
    {
     "data": {
      "text/plain": [
       "True"
      ]
     },
     "execution_count": 193,
     "metadata": {},
     "output_type": "execute_result"
    }
   ],
   "source": [
    "CodelandUsernameValidation(\"u__hello_world123\")"
   ]
  },
  {
   "cell_type": "markdown",
   "metadata": {},
   "source": [
    "## Letter Changes                                                                      \n",
    "have the function LetterChanges(str) take the str parameter being passed and modify it using the following algorithm. Replace every letter in the string with the letter following it in the alphabet (ie. c becomes d, z becomes a). Then capitalize every vowel in this new string (a, e, i, o, u) and finally return this modified string.   "
   ]
  },
  {
   "cell_type": "code",
   "execution_count": 194,
   "metadata": {},
   "outputs": [],
   "source": [
    "def LetterChanges(str):\n",
    "    alpha = 'abcdefghijklmnopqrstuvwxyz'\n",
    "    newAlpha = 'bcdEfghIjklmnOpqrstUvwxyzA'\n",
    "    answer = ''\n",
    "\n",
    "    for i in range(len(str)):\n",
    "        index = alpha.index(str[i])\n",
    "        if index != -1:\n",
    "            answer += newAlpha[index]\n",
    "        else:\n",
    "            answer += str[i]\n",
    "    return answer"
   ]
  },
  {
   "cell_type": "code",
   "execution_count": 195,
   "metadata": {},
   "outputs": [
    {
     "data": {
      "text/plain": [
       "'gEtww'"
      ]
     },
     "execution_count": 195,
     "metadata": {},
     "output_type": "execute_result"
    }
   ],
   "source": [
    "LetterChanges('fdsvv')"
   ]
  },
  {
   "cell_type": "markdown",
   "metadata": {},
   "source": [
    "## Ex Oh                                                                               \n",
    "have the function `ExOh(str)` take the str parameter being passed and return the string true if there is an equal number of x's and o's, otherwise return the string false. Only these two letters will be entered in the string, no punctuation or numbers.<br>\n",
    "For example: if str is \"xooxxxxooxo\" then the output should return false because there are 6 x's and 5 o's.                   "
   ]
  },
  {
   "cell_type": "code",
   "execution_count": 196,
   "metadata": {},
   "outputs": [],
   "source": [
    "def ExOh(str): \n",
    "\n",
    "    if len(str) % 2 == 1:\n",
    "        return False\n",
    "    else:  \n",
    "        tot = 0\n",
    "        for i in range(len(str)):\n",
    "            if str[i] == \"x\":\n",
    "                tot+=1\n",
    "        if tot == len(str) / 2:\n",
    "            return True\n",
    "        else:\n",
    "            return False"
   ]
  },
  {
   "cell_type": "code",
   "execution_count": 197,
   "metadata": {},
   "outputs": [
    {
     "data": {
      "text/plain": [
       "False"
      ]
     },
     "execution_count": 197,
     "metadata": {},
     "output_type": "execute_result"
    }
   ],
   "source": [
    "ExOh(\"xooxxxxooxo\")"
   ]
  }
 ],
 "metadata": {
  "interpreter": {
   "hash": "8a6378035587bb97055001603ea9d85a2aa377cc6252a50ffca4355a71bc8b90"
  },
  "kernelspec": {
   "display_name": "Python 3.8.10 64-bit",
   "language": "python",
   "name": "python3"
  },
  "language_info": {
   "codemirror_mode": {
    "name": "ipython",
    "version": 3
   },
   "file_extension": ".py",
   "mimetype": "text/x-python",
   "name": "python",
   "nbconvert_exporter": "python",
   "pygments_lexer": "ipython3",
   "version": "3.8.10"
  },
  "orig_nbformat": 4
 },
 "nbformat": 4,
 "nbformat_minor": 2
}
